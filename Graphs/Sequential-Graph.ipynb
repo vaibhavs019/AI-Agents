{
 "cells": [
  {
   "cell_type": "code",
   "id": "initial_id",
   "metadata": {
    "collapsed": true,
    "ExecuteTime": {
     "end_time": "2025-07-27T05:08:54.205112Z",
     "start_time": "2025-07-27T05:08:53.942054Z"
    }
   },
   "source": [
    "from typing import TypedDict\n",
    "from langgraph.graph import StateGraph"
   ],
   "outputs": [],
   "execution_count": 1
  },
  {
   "metadata": {
    "ExecuteTime": {
     "end_time": "2025-07-27T05:08:54.266453Z",
     "start_time": "2025-07-27T05:08:54.264637Z"
    }
   },
   "cell_type": "code",
   "source": [
    "class AgentState(TypedDict):\n",
    "    name: str\n",
    "    age: str\n",
    "    final: str"
   ],
   "id": "d8e451d2e869a1f0",
   "outputs": [],
   "execution_count": 2
  },
  {
   "metadata": {
    "ExecuteTime": {
     "end_time": "2025-07-27T05:08:54.276119Z",
     "start_time": "2025-07-27T05:08:54.274127Z"
    }
   },
   "cell_type": "code",
   "source": [
    "def first_node(state: AgentState) -> AgentState:\n",
    "    \"\"\"This is the first node of the graph\"\"\"\n",
    "\n",
    "    state['final'] = f\"Hi, {state['name']}\"\n",
    "    return state\n",
    "\n",
    "def second_node(state: AgentState) -> AgentState:\n",
    "    \"\"\"This is the second node of the graph\"\"\"\n",
    "\n",
    "    state['final'] = state['final'] + f\"You are {state['age']} years old\"\n",
    "    return state"
   ],
   "id": "bd6f4c2694f6e6b3",
   "outputs": [],
   "execution_count": 3
  },
  {
   "metadata": {
    "ExecuteTime": {
     "end_time": "2025-07-27T05:10:34.645034Z",
     "start_time": "2025-07-27T05:10:34.639526Z"
    }
   },
   "cell_type": "code",
   "source": [
    "graph = StateGraph(AgentState)\n",
    "\n",
    "graph.add_node(\"first_node\", first_node)\n",
    "graph.add_node(\"second_node\", second_node)\n",
    "\n",
    "graph.set_entry_point(\"first_node\")\n",
    "graph.add_edge(\"first_node\", \"second_node\")\n",
    "graph.set_finish_point(\"second_node\")\n",
    "\n",
    "app = graph.compile()"
   ],
   "id": "99c137283a9fc8d",
   "outputs": [],
   "execution_count": 5
  },
  {
   "metadata": {
    "ExecuteTime": {
     "end_time": "2025-07-27T05:10:54.716403Z",
     "start_time": "2025-07-27T05:10:53.992648Z"
    }
   },
   "cell_type": "code",
   "source": [
    "from IPython.display import Image, display\n",
    "display(Image(app.get_graph().draw_mermaid_png()))"
   ],
   "id": "1161a4a9161cc850",
   "outputs": [
    {
     "data": {
      "image/png": "[encoded data removed]",
      "text/plain": [
       "<IPython.core.display.Image object>"
      ]
     },
     "metadata": {},
     "output_type": "display_data"
    }
   ],
   "execution_count": 6
  },
  {
   "metadata": {
    "ExecuteTime": {
     "end_time": "2025-07-27T05:12:04.146274Z",
     "start_time": "2025-07-27T05:12:04.132186Z"
    }
   },
   "cell_type": "code",
   "source": [
    "result = app.invoke({'name': 'Vaibhav', 'age': '21'})\n",
    "result['final']"
   ],
   "id": "1cc509591436bc9a",
   "outputs": [
    {
     "data": {
      "text/plain": [
       "'Hi, VaibhavYou are 21 years old'"
      ]
     },
     "execution_count": 7,
     "metadata": {},
     "output_type": "execute_result"
    }
   ],
   "execution_count": 7
  },
  {
   "metadata": {},
   "cell_type": "markdown",
   "source": "# Exercise",
   "id": "91a9e3c78579acce"
  },
  {
   "metadata": {},
   "cell_type": "code",
   "outputs": [],
   "execution_count": null,
   "source": [
    "from typing import TypedDict\n",
    "from langgraph.graph import StateGraph"
   ],
   "id": "e722fa0540c99baa"
  },
  {
   "metadata": {
    "ExecuteTime": {
     "end_time": "2025-07-27T05:13:54.135484Z",
     "start_time": "2025-07-27T05:13:54.132138Z"
    }
   },
   "cell_type": "code",
   "source": [
    "class AgentState(TypedDict):\n",
    "    name: str\n",
    "    age: str\n",
    "    skills: str\n",
    "    final: str"
   ],
   "id": "938f82212bcadca0",
   "outputs": [],
   "execution_count": 8
  },
  {
   "metadata": {
    "ExecuteTime": {
     "end_time": "2025-07-27T05:14:10.470862Z",
     "start_time": "2025-07-27T05:14:10.467355Z"
    }
   },
   "cell_type": "code",
   "source": [
    "def first_node(state: AgentState) -> AgentState:\n",
    "    state['final'] = f\"Hi, {state['name']}\"\n",
    "    return state"
   ],
   "id": "8e4dbac805a9c082",
   "outputs": [],
   "execution_count": 9
  },
  {
   "metadata": {
    "ExecuteTime": {
     "end_time": "2025-07-27T05:16:55.927162Z",
     "start_time": "2025-07-27T05:16:55.923898Z"
    }
   },
   "cell_type": "code",
   "source": [
    "def second_node(state: AgentState) -> AgentState:\n",
    "    state['final'] = state['final'] + f\" You are {state['age']} years old\"\n",
    "    return state"
   ],
   "id": "436d3623cf52cb30",
   "outputs": [],
   "execution_count": 18
  },
  {
   "metadata": {
    "ExecuteTime": {
     "end_time": "2025-07-27T05:16:56.244204Z",
     "start_time": "2025-07-27T05:16:56.240220Z"
    }
   },
   "cell_type": "code",
   "source": [
    "def third_node(state: AgentState) -> AgentState:\n",
    "    state['final'] = state['final'] + f\" Your skills are {state['skills']}\"\n",
    "    return state"
   ],
   "id": "bf16c4858340244d",
   "outputs": [],
   "execution_count": 19
  },
  {
   "metadata": {
    "ExecuteTime": {
     "end_time": "2025-07-27T05:20:27.378715Z",
     "start_time": "2025-07-27T05:20:27.373507Z"
    }
   },
   "cell_type": "code",
   "source": [
    "graph = StateGraph(AgentState)\n",
    "\n",
    "graph.add_node(\"name\", first_node)\n",
    "graph.add_node(\"age\", second_node)\n",
    "graph.add_node(\"skills\", third_node)\n",
    "\n",
    "graph.set_entry_point(\"name\")\n",
    "graph.add_edge(\"name\", \"age\")\n",
    "graph.add_edge(\"age\", \"skills\")\n",
    "graph.set_finish_point(\"skills\")\n",
    "\n",
    "app = graph.compile()"
   ],
   "id": "e2fc6db3f4e7d1d3",
   "outputs": [],
   "execution_count": 24
  },
  {
   "metadata": {
    "ExecuteTime": {
     "end_time": "2025-07-27T05:20:28.208495Z",
     "start_time": "2025-07-27T05:20:27.721978Z"
    }
   },
   "cell_type": "code",
   "source": [
    "from IPython.display import Image, display\n",
    "display(Image(app.get_graph().draw_mermaid_png()))"
   ],
   "id": "5e0be336fafc909d",
   "outputs": [
    {
     "data": {
      "image/png": "[encoded data removed]",
      "text/plain": [
       "<IPython.core.display.Image object>"
      ]
     },
     "metadata": {},
     "output_type": "display_data"
    }
   ],
   "execution_count": 25
  },
  {
   "metadata": {
    "ExecuteTime": {
     "end_time": "2025-07-27T05:16:57.570009Z",
     "start_time": "2025-07-27T05:16:57.565137Z"
    }
   },
   "cell_type": "code",
   "source": "res = app.invoke({\"name\": 'Vaibhav', \"age\": '22', \"skills\": 'Python, CAD, Machine Learning'})",
   "id": "2721b31efd7b68e1",
   "outputs": [],
   "execution_count": 22
  },
  {
   "metadata": {
    "ExecuteTime": {
     "end_time": "2025-07-27T05:16:58.521909Z",
     "start_time": "2025-07-27T05:16:58.518427Z"
    }
   },
   "cell_type": "code",
   "source": "res['final']",
   "id": "b8d6edcc708ef6e4",
   "outputs": [
    {
     "data": {
      "text/plain": [
       "'Hi, Vaibhav You are 22 years old Your skills are Python, CAD, Machine Learning'"
      ]
     },
     "execution_count": 23,
     "metadata": {},
     "output_type": "execute_result"
    }
   ],
   "execution_count": 23
  },
  {
   "metadata": {},
   "cell_type": "code",
   "outputs": [],
   "execution_count": null,
   "source": "",
   "id": "1a954b47b018d6e5"
  }
 ],
 "metadata": {
  "kernelspec": {
   "display_name": "Python 3",
   "language": "python",
   "name": "python3"
  },
  "language_info": {
   "codemirror_mode": {
    "name": "ipython",
    "version": 2
   },
   "file_extension": ".py",
   "mimetype": "text/x-python",
   "name": "python",
   "nbconvert_exporter": "python",
   "pygments_lexer": "ipython2",
   "version": "2.7.6"
  }
 },
 "nbformat": 4,
 "nbformat_minor": 5
}
