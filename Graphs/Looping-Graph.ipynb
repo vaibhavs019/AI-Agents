{
 "cells": [
  {
   "metadata": {
    "ExecuteTime": {
     "end_time": "2025-08-02T06:06:42.811122Z",
     "start_time": "2025-08-02T06:06:42.490018Z"
    }
   },
   "cell_type": "code",
   "source": [
    "import random\n",
    "from typing import List, Dict, TypedDict\n",
    "from langgraph.graph import StateGraph, END"
   ],
   "id": "10da9798f645b21",
   "outputs": [],
   "execution_count": 1
  },
  {
   "metadata": {
    "ExecuteTime": {
     "end_time": "2025-08-02T06:13:44.219016Z",
     "start_time": "2025-08-02T06:13:44.215464Z"
    }
   },
   "cell_type": "code",
   "source": [
    "class AgentState(TypedDict):\n",
    "    name: str\n",
    "    numbers: List[int]\n",
    "    counter: int"
   ],
   "id": "14b05b0e1f011c9",
   "outputs": [],
   "execution_count": 3
  },
  {
   "metadata": {
    "ExecuteTime": {
     "end_time": "2025-08-02T07:12:21.626911Z",
     "start_time": "2025-08-02T07:12:21.619095Z"
    }
   },
   "cell_type": "code",
   "source": [
    "def greeting(state: AgentState) -> AgentState:\n",
    "    \"\"\"\"Greeting node which greets the user\"\"\"\"\"\n",
    "    state['name'] = f\"Hi, {state['name']}!\"\n",
    "    state['counter'] = 0\n",
    "    return state"
   ],
   "id": "2fa4163e49e412f6",
   "outputs": [],
   "execution_count": 4
  },
  {
   "metadata": {
    "ExecuteTime": {
     "end_time": "2025-08-02T07:13:36.470422Z",
     "start_time": "2025-08-02T07:13:36.467107Z"
    }
   },
   "cell_type": "code",
   "source": [
    "def random_node(state: AgentState) -> AgentState:\n",
    "    \"\"\"\"Random node which generates a random number\"\"\"\"\"\n",
    "    state['numbers'].append(random.randint(0, 10))\n",
    "    state['counter'] += 1\n",
    "    return state"
   ],
   "id": "a4a7d5835cb36e94",
   "outputs": [],
   "execution_count": 6
  },
  {
   "metadata": {
    "ExecuteTime": {
     "end_time": "2025-08-02T07:16:52.231601Z",
     "start_time": "2025-08-02T07:16:52.229064Z"
    }
   },
   "cell_type": "code",
   "source": [
    "def should_continue(state: AgentState) -> AgentState:\n",
    "    \"\"\"Function to decice what to do next\"\"\"\n",
    "    if state['counter'] < 5:\n",
    "        print(\"Entering the loog\", state['counter'])\n",
    "        return \"Loop\"\n",
    "    else:\n",
    "        return \"Exit\""
   ],
   "id": "1ef8e9357053a902",
   "outputs": [],
   "execution_count": 9
  },
  {
   "metadata": {
    "ExecuteTime": {
     "end_time": "2025-08-02T07:21:49.582166Z",
     "start_time": "2025-08-02T07:21:49.573615Z"
    }
   },
   "cell_type": "code",
   "source": [
    " graph = StateGraph(AgentState)\n",
    "\n",
    " graph.add_node(\"greeting\", greeting)\n",
    " graph.add_node(\"random\", random_node)\n",
    " graph.add_edge(\"greeting\", \"random\")\n",
    "\n",
    " graph.add_conditional_edges(\n",
    "     \"random\",              # Source Node\n",
    "     should_continue,       # Action\n",
    "     {\"Loop\": \"random\",     # Self Loop back to the same node\n",
    "      \"Exit\": END}          # End the graph\n",
    " )\n",
    "\n",
    " graph.set_entry_point(\"greeting\")\n",
    "\n",
    " app = graph.compile()"
   ],
   "id": "2d7b284bb8111882",
   "outputs": [],
   "execution_count": 10
  },
  {
   "metadata": {
    "ExecuteTime": {
     "end_time": "2025-08-02T07:22:03.859548Z",
     "start_time": "2025-08-02T07:22:03.263439Z"
    }
   },
   "cell_type": "code",
   "source": [
    "from IPython.display import Image, display\n",
    "display(Image(app.get_graph().draw_mermaid_png()))"
   ],
   "id": "89d615c38aa982a4",
   "outputs": [
    {
     "data": {
      "image/png": "[encoded data removed]",
      "text/plain": [
       "<IPython.core.display.Image object>"
      ]
     },
     "metadata": {},
     "output_type": "display_data"
    }
   ],
   "execution_count": 11
  },
  {
   "metadata": {
    "ExecuteTime": {
     "end_time": "2025-08-02T07:23:01.749108Z",
     "start_time": "2025-08-02T07:23:01.743166Z"
    }
   },
   "cell_type": "code",
   "source": "res = app.invoke({'name': 'Vaibhav', \"numbers\": [], \"counter\": -5})",
   "id": "197c05ecb4f3eb56",
   "outputs": [
    {
     "name": "stdout",
     "output_type": "stream",
     "text": [
      "Entering the loog 1\n",
      "Entering the loog 2\n",
      "Entering the loog 3\n",
      "Entering the loog 4\n"
     ]
    }
   ],
   "execution_count": 13
  },
  {
   "metadata": {
    "ExecuteTime": {
     "end_time": "2025-08-02T07:23:20.702900Z",
     "start_time": "2025-08-02T07:23:20.699555Z"
    }
   },
   "cell_type": "code",
   "source": "res",
   "id": "8f832d7fe25a7b8d",
   "outputs": [
    {
     "data": {
      "text/plain": [
       "{'name': 'Hi, Vaibhav!', 'numbers': [8, 3, 9, 5, 1], 'counter': 5}"
      ]
     },
     "execution_count": 14,
     "metadata": {},
     "output_type": "execute_result"
    }
   ],
   "execution_count": 14
  },
  {
   "metadata": {},
   "cell_type": "markdown",
   "source": "# Exercise",
   "id": "4631d19cdee67aea"
  },
  {
   "metadata": {
    "ExecuteTime": {
     "end_time": "2025-08-02T07:32:56.355435Z",
     "start_time": "2025-08-02T07:32:56.352689Z"
    }
   },
   "cell_type": "code",
   "source": [
    "class GameState(TypedDict):\n",
    "    player_name: str\n",
    "    target_number: int\n",
    "    guesses: List[int]\n",
    "    attempts: int\n",
    "    hint: str\n",
    "    lower_bound: int\n",
    "    upper_bound: int"
   ],
   "id": "e8afb772164927cb",
   "outputs": [],
   "execution_count": 44
  },
  {
   "metadata": {
    "ExecuteTime": {
     "end_time": "2025-08-02T07:32:56.863632Z",
     "start_time": "2025-08-02T07:32:56.861208Z"
    }
   },
   "cell_type": "code",
   "source": [
    "def setup_node(state: GameState) -> GameState:\n",
    "    \"\"\"Initialize the game with a random target number\"\"\"\n",
    "    state[\"player_name\"] = f\"Welcome, {state['player_name']}!\"\n",
    "    state[\"target_number\"] = random.randint(1, 20)\n",
    "    state[\"guesses\"] = []\n",
    "    state[\"attempts\"] = 0\n",
    "    state[\"hint\"] = \"Game started! Try to guess the number.\"\n",
    "    state[\"lower_bound\"] = 1\n",
    "    state[\"upper_bound\"] = 20\n",
    "    print(f\"{state['player_name']} The game has begun. I'm thinking of a number between 1 and 20.\")\n",
    "    return state"
   ],
   "id": "5793afdd7124f642",
   "outputs": [],
   "execution_count": 45
  },
  {
   "metadata": {
    "ExecuteTime": {
     "end_time": "2025-08-02T07:32:56.942111Z",
     "start_time": "2025-08-02T07:32:56.937886Z"
    }
   },
   "cell_type": "code",
   "source": [
    "def guess_node(state: GameState) -> GameState:\n",
    "    \"\"\"Generate a smarter guess based on previous hints\"\"\"\n",
    "\n",
    "    possible_guesses = [i for i in range(state[\"lower_bound\"], state[\"upper_bound\"] + 1) if i not in state[\"guesses\"]]\n",
    "    if possible_guesses:\n",
    "        guess = random.choice(possible_guesses)\n",
    "\n",
    "    else:\n",
    "        guess = random.randint(state[\"lower_bound\"], state[\"upper_bound\"])\n",
    "\n",
    "    state[\"guesses\"].append(guess)\n",
    "    state[\"attempts\"] += 1\n",
    "    print(f\"Attempt {state['attempts']}: Guessing {guess} (Current range: {state['lower_bound']}-{state['upper_bound']})\")\n",
    "    return state"
   ],
   "id": "da0fd3d72fab1bf6",
   "outputs": [],
   "execution_count": 46
  },
  {
   "metadata": {
    "ExecuteTime": {
     "end_time": "2025-08-02T07:32:57.019285Z",
     "start_time": "2025-08-02T07:32:57.016912Z"
    }
   },
   "cell_type": "code",
   "source": [
    "def hint_node(state: GameState) -> GameState:\n",
    "    \"\"\"Here we provide a hint based on the last guess and update the bounds\"\"\"\n",
    "    latest_guess = state[\"guesses\"][-1]\n",
    "    target = state[\"target_number\"]\n",
    "\n",
    "    if latest_guess < target:\n",
    "        state[\"hint\"] = f\"The number {latest_guess} is too low. Try higher!\"\n",
    "\n",
    "        state[\"lower_bound\"] = max(state[\"lower_bound\"], latest_guess + 1)\n",
    "        print(f\"Hint: {state['hint']}\")\n",
    "\n",
    "    elif latest_guess > target:\n",
    "        state[\"hint\"] = f\"The number {latest_guess} is too high. Try lower!\"\n",
    "\n",
    "        state[\"upper_bound\"] = min(state[\"upper_bound\"], latest_guess - 1)\n",
    "        print(f\"Hint: {state['hint']}\")\n",
    "    else:\n",
    "        state[\"hint\"] = f\"Correct! You found the number {target} in {state['attempts']} attempts.\"\n",
    "        print(f\"Success! {state['hint']}\")\n",
    "\n",
    "    return state"
   ],
   "id": "9dfb278b6c8c1417",
   "outputs": [],
   "execution_count": 47
  },
  {
   "metadata": {
    "ExecuteTime": {
     "end_time": "2025-08-02T07:32:57.106040Z",
     "start_time": "2025-08-02T07:32:57.103669Z"
    }
   },
   "cell_type": "code",
   "source": [
    "def should_continue(state: GameState) -> str:\n",
    "    \"\"\"Determine if we should continue guessing or end the game\"\"\"\n",
    "\n",
    "    # There are 2 end conditions - either 7 is reached or the correct number is guessed\n",
    "\n",
    "    latest_guess = state[\"guesses\"][-1]\n",
    "    if latest_guess == state[\"target_number\"]:\n",
    "        print(f\"GAME OVER: Number found!\")\n",
    "        return \"end\"\n",
    "    elif state[\"attempts\"] >= 7:\n",
    "        print(f\"GAME OVER: Maximum attempts reached! The number was {state['target_number']}\")\n",
    "        return \"end\"\n",
    "    else:\n",
    "        print(f\"CONTINUING: {state['attempts']}/7 attempts used\")\n",
    "        return \"continue\""
   ],
   "id": "705e0613a30b81e8",
   "outputs": [],
   "execution_count": 48
  },
  {
   "metadata": {
    "ExecuteTime": {
     "end_time": "2025-08-02T07:32:57.189157Z",
     "start_time": "2025-08-02T07:32:57.184875Z"
    }
   },
   "cell_type": "code",
   "source": [
    "graph = StateGraph(GameState)\n",
    "graph.add_node(\"setup\", setup_node)\n",
    "graph.add_node(\"guess\", guess_node)\n",
    "graph.add_node(\"hint_node\", hint_node)\n",
    "\n",
    "\n",
    "graph.add_edge(\"setup\", \"guess\")\n",
    "graph.add_edge(\"guess\", \"hint_node\")\n",
    "\n",
    "\n",
    "graph.add_conditional_edges(\n",
    "    \"hint_node\",\n",
    "    should_continue,\n",
    "    {\n",
    "        \"continue\": \"guess\",\n",
    "        \"end\": END\n",
    "    }\n",
    ")\n",
    "\n",
    "graph.set_entry_point(\"setup\")\n",
    "app = graph.compile()"
   ],
   "id": "df70e44bdca0d797",
   "outputs": [],
   "execution_count": 49
  },
  {
   "metadata": {
    "ExecuteTime": {
     "end_time": "2025-08-02T07:32:57.714018Z",
     "start_time": "2025-08-02T07:32:57.272307Z"
    }
   },
   "cell_type": "code",
   "source": [
    "from IPython.display import Image, display\n",
    "display(Image(app.get_graph().draw_mermaid_png()))"
   ],
   "id": "1977d2cda476c917",
   "outputs": [
    {
     "data": {
      "image/png": "[encoded data removed]",
      "text/plain": [
       "<IPython.core.display.Image object>"
      ]
     },
     "metadata": {},
     "output_type": "display_data"
    }
   ],
   "execution_count": 50
  },
  {
   "metadata": {
    "ExecuteTime": {
     "end_time": "2025-08-02T07:32:57.727813Z",
     "start_time": "2025-08-02T07:32:57.724588Z"
    }
   },
   "cell_type": "code",
   "source": "result = app.invoke({\"player_name\": \"Vaibhav\", \"target_number\": 9, \"guesses\": [], \"attempts\": 0, \"hint\": \"\", \"lower_bound\": 1, \"upper_bound\": 20})",
   "id": "7c3150a0f992f0f3",
   "outputs": [
    {
     "name": "stdout",
     "output_type": "stream",
     "text": [
      "Welcome, Vaibhav! The game has begun. I'm thinking of a number between 1 and 20.\n",
      "Attempt 1: Guessing 6 (Current range: 1-20)\n",
      "Hint: The number 6 is too high. Try lower!\n",
      "CONTINUING: 1/7 attempts used\n",
      "Attempt 2: Guessing 1 (Current range: 1-5)\n",
      "Success! Correct! You found the number 1 in 2 attempts.\n",
      "GAME OVER: Number found!\n"
     ]
    }
   ],
   "execution_count": 51
  },
  {
   "metadata": {},
   "cell_type": "code",
   "outputs": [],
   "execution_count": null,
   "source": "",
   "id": "986e95dc07ad1c6a"
  }
 ],
 "metadata": {
  "kernelspec": {
   "display_name": "Python 3",
   "language": "python",
   "name": "python3"
  },
  "language_info": {
   "codemirror_mode": {
    "name": "ipython",
    "version": 2
   },
   "file_extension": ".py",
   "mimetype": "text/x-python",
   "name": "python",
   "nbconvert_exporter": "python",
   "pygments_lexer": "ipython2",
   "version": "2.7.6"
  }
 },
 "nbformat": 4,
 "nbformat_minor": 5
}
