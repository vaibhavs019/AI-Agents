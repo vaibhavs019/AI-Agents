{
 "cells": [
  {
   "metadata": {},
   "cell_type": "markdown",
   "source": "## Typed Dictionaries",
   "id": "e40a4e7f6e739834"
  },
  {
   "cell_type": "code",
   "id": "initial_id",
   "metadata": {
    "collapsed": true,
    "ExecuteTime": {
     "end_time": "2025-07-21T06:00:08.679320Z",
     "start_time": "2025-07-21T06:00:08.666368Z"
    }
   },
   "source": [
    "from typing import TypedDict\n",
    "\n",
    "class Movie(TypedDict):\n",
    "    title: str\n",
    "    year: int\n",
    "    rating: float\n",
    "\n",
    "movie = Movie(title=\"The Matrix\",\n",
    "              year=1999,\n",
    "              rating=8.8)\n",
    "print(movie)"
   ],
   "outputs": [
    {
     "name": "stdout",
     "output_type": "stream",
     "text": [
      "{'title': 'The Matrix', 'year': 1999, 'rating': 8.8}\n"
     ]
    }
   ],
   "execution_count": 1
  },
  {
   "metadata": {},
   "cell_type": "markdown",
   "source": [
    "## Unions\n",
    "\n",
    "Unions are used to represent a type that is a combination of multiple types."
   ],
   "id": "5e16830230eb3caa"
  },
  {
   "metadata": {
    "ExecuteTime": {
     "end_time": "2025-07-21T06:00:10.644556Z",
     "start_time": "2025-07-21T06:00:10.639904Z"
    }
   },
   "cell_type": "code",
   "source": [
    "from typing import Union\n",
    "\n",
    "def square(x: Union[int, float]) -> float:\n",
    "    return x * x\n",
    "\n",
    "print(square(3))\n",
    "print(square(3.0))"
   ],
   "id": "d13474b5a90d2428",
   "outputs": [
    {
     "name": "stdout",
     "output_type": "stream",
     "text": [
      "9\n",
      "9.0\n"
     ]
    }
   ],
   "execution_count": 2
  },
  {
   "metadata": {},
   "cell_type": "markdown",
   "source": "## Optional Parameters",
   "id": "e443bd4d07aaa78c"
  },
  {
   "metadata": {
    "ExecuteTime": {
     "end_time": "2025-07-21T06:08:30.341762Z",
     "start_time": "2025-07-21T06:08:30.336075Z"
    }
   },
   "cell_type": "code",
   "source": [
    "from typing import Optional\n",
    "\n",
    "def nice_msg(name: Optional[str]) -> None:\n",
    "    if name is None:\n",
    "        print(\"Hello, random person!\")\n",
    "\n",
    "    else:\n",
    "        print(f\"Hello, {name}!\")\n",
    "\n",
    "nice_msg(\"Vaibhav\")\n",
    "nice_msg(None)"
   ],
   "id": "783bc75e7185d51e",
   "outputs": [
    {
     "name": "stdout",
     "output_type": "stream",
     "text": [
      "Hello, Vaibhav!\n",
      "Hello, random person!\n"
     ]
    }
   ],
   "execution_count": 16
  },
  {
   "metadata": {},
   "cell_type": "markdown",
   "source": [
    "## Any\n",
    "\n",
    "Any is a special type that can be used to represent any type of data."
   ],
   "id": "2bc37b6e32efba4c"
  },
  {
   "metadata": {
    "ExecuteTime": {
     "end_time": "2025-07-21T06:09:14.074623Z",
     "start_time": "2025-07-21T06:09:14.070816Z"
    }
   },
   "cell_type": "code",
   "source": [
    "from typing import Any\n",
    "\n",
    "def add(x: Any, y: Any) -> Any:\n",
    "    return x + y\n",
    "\n",
    "print(add(1, 2.5))"
   ],
   "id": "692c44fd9bba2965",
   "outputs": [
    {
     "name": "stdout",
     "output_type": "stream",
     "text": [
      "3.5\n"
     ]
    }
   ],
   "execution_count": 18
  },
  {
   "metadata": {},
   "cell_type": "markdown",
   "source": "## Lambdas",
   "id": "9afe46ed3704453a"
  },
  {
   "metadata": {
    "ExecuteTime": {
     "end_time": "2025-07-21T06:11:45.737982Z",
     "start_time": "2025-07-21T06:11:45.733369Z"
    }
   },
   "cell_type": "code",
   "source": [
    "x = lambda x: x * x\n",
    "x(25)"
   ],
   "id": "e6d4a29b30f34543",
   "outputs": [
    {
     "data": {
      "text/plain": [
       "625"
      ]
     },
     "execution_count": 23,
     "metadata": {},
     "output_type": "execute_result"
    }
   ],
   "execution_count": 23
  },
  {
   "metadata": {},
   "cell_type": "code",
   "outputs": [],
   "execution_count": null,
   "source": "",
   "id": "90dfcd3aab27c1f"
  }
 ],
 "metadata": {
  "kernelspec": {
   "display_name": "Python 3",
   "language": "python",
   "name": "python3"
  },
  "language_info": {
   "codemirror_mode": {
    "name": "ipython",
    "version": 2
   },
   "file_extension": ".py",
   "mimetype": "text/x-python",
   "name": "python",
   "nbconvert_exporter": "python",
   "pygments_lexer": "ipython2",
   "version": "2.7.6"
  }
 },
 "nbformat": 4,
 "nbformat_minor": 5
}
